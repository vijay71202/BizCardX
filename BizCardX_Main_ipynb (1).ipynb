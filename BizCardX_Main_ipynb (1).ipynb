{
  "cells": [
    {
      "cell_type": "code",
      "execution_count": null,
      "metadata": {
        "colab": {
          "background_save": true
        },
        "id": "yFb-AI4nZ9CC",
        "outputId": "737beec7-eb93-44fc-93a9-6cb479e95bc3"
      },
      "outputs": [
        {
          "name": "stdout",
          "output_type": "stream",
          "text": [
            "Requirement already satisfied: easyocr in /usr/local/lib/python3.10/dist-packages (1.7.2)\n",
            "Requirement already satisfied: torch in /usr/local/lib/python3.10/dist-packages (from easyocr) (2.5.0+cu121)\n",
            "Requirement already satisfied: torchvision>=0.5 in /usr/local/lib/python3.10/dist-packages (from easyocr) (0.20.0+cu121)\n",
            "Requirement already satisfied: opencv-python-headless in /usr/local/lib/python3.10/dist-packages (from easyocr) (4.10.0.84)\n",
            "Requirement already satisfied: scipy in /usr/local/lib/python3.10/dist-packages (from easyocr) (1.13.1)\n",
            "Requirement already satisfied: numpy in /usr/local/lib/python3.10/dist-packages (from easyocr) (1.26.4)\n",
            "Requirement already satisfied: Pillow in /usr/local/lib/python3.10/dist-packages (from easyocr) (10.4.0)\n",
            "Requirement already satisfied: scikit-image in /usr/local/lib/python3.10/dist-packages (from easyocr) (0.24.0)\n",
            "Requirement already satisfied: python-bidi in /usr/local/lib/python3.10/dist-packages (from easyocr) (0.6.3)\n",
            "Requirement already satisfied: PyYAML in /usr/local/lib/python3.10/dist-packages (from easyocr) (6.0.2)\n",
            "Requirement already satisfied: Shapely in /usr/local/lib/python3.10/dist-packages (from easyocr) (2.0.6)\n",
            "Requirement already satisfied: pyclipper in /usr/local/lib/python3.10/dist-packages (from easyocr) (1.3.0.post6)\n",
            "Requirement already satisfied: ninja in /usr/local/lib/python3.10/dist-packages (from easyocr) (1.11.1.1)\n",
            "Requirement already satisfied: filelock in /usr/local/lib/python3.10/dist-packages (from torch->easyocr) (3.16.1)\n",
            "Requirement already satisfied: typing-extensions>=4.8.0 in /usr/local/lib/python3.10/dist-packages (from torch->easyocr) (4.12.2)\n",
            "Requirement already satisfied: networkx in /usr/local/lib/python3.10/dist-packages (from torch->easyocr) (3.4.2)\n",
            "Requirement already satisfied: jinja2 in /usr/local/lib/python3.10/dist-packages (from torch->easyocr) (3.1.4)\n",
            "Requirement already satisfied: fsspec in /usr/local/lib/python3.10/dist-packages (from torch->easyocr) (2024.6.1)\n",
            "Requirement already satisfied: sympy==1.13.1 in /usr/local/lib/python3.10/dist-packages (from torch->easyocr) (1.13.1)\n",
            "Requirement already satisfied: mpmath<1.4,>=1.1.0 in /usr/local/lib/python3.10/dist-packages (from sympy==1.13.1->torch->easyocr) (1.3.0)\n",
            "Requirement already satisfied: imageio>=2.33 in /usr/local/lib/python3.10/dist-packages (from scikit-image->easyocr) (2.35.1)\n",
            "Requirement already satisfied: tifffile>=2022.8.12 in /usr/local/lib/python3.10/dist-packages (from scikit-image->easyocr) (2024.9.20)\n",
            "Requirement already satisfied: packaging>=21 in /usr/local/lib/python3.10/dist-packages (from scikit-image->easyocr) (24.1)\n",
            "Requirement already satisfied: lazy-loader>=0.4 in /usr/local/lib/python3.10/dist-packages (from scikit-image->easyocr) (0.4)\n",
            "Requirement already satisfied: MarkupSafe>=2.0 in /usr/local/lib/python3.10/dist-packages (from jinja2->torch->easyocr) (3.0.2)\n"
          ]
        }
      ],
      "source": [
        "!pip install easyocr"
      ]
    },
    {
      "cell_type": "code",
      "execution_count": null,
      "metadata": {
        "id": "DSLWbwooZ9Nv"
      },
      "outputs": [],
      "source": [
        "!pip install streamlit"
      ]
    },
    {
      "cell_type": "code",
      "execution_count": null,
      "metadata": {
        "id": "z6qocu9IZ9Qy"
      },
      "outputs": [],
      "source": [
        "!pip install streamlit_option_menu"
      ]
    },
    {
      "cell_type": "code",
      "execution_count": null,
      "metadata": {
        "colab": {
          "background_save": true
        },
        "id": "gsQ_w0C5Z9S_"
      },
      "outputs": [],
      "source": [
        "import easyocr\n",
        "import streamlit as st\n",
        "from PIL import Image\n",
        "import pandas as pd\n",
        "import numpy as np\n",
        "import re\n",
        "import io\n",
        "import sqlite3"
      ]
    },
    {
      "cell_type": "code",
      "execution_count": null,
      "metadata": {
        "colab": {
          "background_save": true
        },
        "id": "7OPBAUrtZ9WL"
      },
      "outputs": [],
      "source": [
        "def image_to_text(path):\n",
        "\n",
        "  input_img=Image.open(path)\n",
        "\n",
        "  #converting image to array format\n",
        "  image_array=np.array(input_img)\n",
        "  reader=easyocr.Reader(['en'])\n",
        "  text=reader.readtext(image_array, detail=0)\n",
        "\n",
        "  return text, input_img"
      ]
    },
    {
      "cell_type": "code",
      "execution_count": null,
      "metadata": {
        "colab": {
          "background_save": true
        },
        "id": "gktpKlMOZ9Zj",
        "outputId": "dc9443da-a761-498e-9c79-f60a6f6f9fef"
      },
      "outputs": [
        {
          "name": "stderr",
          "output_type": "stream",
          "text": [
            "WARNING:easyocr.easyocr:Neither CUDA nor MPS are available - defaulting to CPU. Note: This module is much faster with a GPU.\n"
          ]
        }
      ],
      "source": [
        "text_image, input_img=image_to_text(\"/content/1.png\")"
      ]
    },
    {
      "cell_type": "code",
      "execution_count": null,
      "metadata": {
        "colab": {
          "background_save": true
        },
        "id": "yQZiC6DJ87mE",
        "outputId": "342550a9-4a82-4c75-f2f4-6edf0e3450a7"
      },
      "outputs": [
        {
          "data": {
            "text/plain": [
              "['Selva',\n",
              " 'DATA MANAGER',\n",
              " '+123-456-7890',\n",
              " '+123-456-7891',\n",
              " 'WWW XYZI.com',\n",
              " 'hello@XYZ1.com',\n",
              " '123 ABC St , Chennai;',\n",
              " 'selva',\n",
              " 'TamilNadu 600113',\n",
              " 'digitals']"
            ]
          },
          "execution_count": 9,
          "metadata": {},
          "output_type": "execute_result"
        }
      ],
      "source": [
        "text_image"
      ]
    },
    {
      "cell_type": "code",
      "execution_count": null,
      "metadata": {
        "colab": {
          "background_save": true
        },
        "id": "abIpr9BX5IUD"
      },
      "outputs": [],
      "source": [
        "from typing import Concatenate\n",
        "def extracted_text(texts):\n",
        "  extracted_dic={\"NAME\":[],\"DESIGNATION\":[], \"COMPANY_NAME\":[], \"CONTACT_NO\":[], \"MAIL_ID\":[], \"WEBSITE\":[], \"ADDRESS\":[], \"PINCODE\":[]}\n",
        "\n",
        "  extracted_dic[\"NAME\"].append(texts[0])\n",
        "  extracted_dic[\"DESIGNATION\"].append(texts[1])\n",
        "\n",
        "  for i in range(2,len(texts)):\n",
        "    if texts[i]. startswith(\"+\")or(texts[i].replace(\"-\",\"\").isdigit() and '-' in texts[i]):\n",
        "      extracted_dic[\"CONTACT_NO\"].append(texts[i])\n",
        "\n",
        "    elif \"@\" in texts[i] and \".com\" in texts[i]:\n",
        "      extracted_dic[\"MAIL_ID\"].append(texts[i])\n",
        "    elif \"WWW\" in texts[i] or \"www\" in texts[i] or \"Www\" in texts[i] or \"wWw\" in texts[i] or \"wwW\" in texts[i]:\n",
        "      small=texts[i].lower()\n",
        "      extracted_dic[\"WEBSITE\"].append(small)\n",
        "    elif \"TamilNadu\" in texts[i] or  \"Tamil Nadu\" in texts[i] or texts[i].isdigit():\n",
        "      extracted_dic[\"PINCODE\"].append(texts[i])\n",
        "\n",
        "    elif re.match(r'^[A-Za-z]',texts[i]):\n",
        "      extracted_dic[\"COMPANY_NAME\"].append(texts[i])\n",
        "\n",
        "    else:\n",
        "      remove_colon=re.sub(r'[,;]','',texts[i])\n",
        "      extracted_dic[\"ADDRESS\"].append(remove_colon)\n",
        "\n",
        "  for key,value in extracted_dic.items():\n",
        "    if len(value)>0:\n",
        "      Concatenate = \" \".join(value)\n",
        "      extracted_dic[key]=[Concatenate]\n",
        "    else:\n",
        "      value=\"NA\"\n",
        "      extracted_dic[key]=[value]\n",
        "\n",
        "  return extracted_dic"
      ]
    },
    {
      "cell_type": "code",
      "execution_count": null,
      "metadata": {
        "colab": {
          "background_save": true
        },
        "id": "_ABmYztl9NUF",
        "outputId": "ab9d17e6-fc2a-4721-c78f-f85421db6530"
      },
      "outputs": [
        {
          "data": {
            "text/plain": [
              "{'NAME': ['Selva'],\n",
              " 'DESIGNATION': ['DATA MANAGER'],\n",
              " 'COMPANY_NAME': ['selva digitals'],\n",
              " 'CONTACT_NO': ['+123-456-7890 +123-456-7891'],\n",
              " 'MAIL_ID': ['hello@XYZ1.com'],\n",
              " 'WEBSITE': ['www xyzi.com'],\n",
              " 'ADDRESS': ['123 ABC St  Chennai'],\n",
              " 'PINCODE': ['TamilNadu 600113']}"
            ]
          },
          "execution_count": 11,
          "metadata": {},
          "output_type": "execute_result"
        }
      ],
      "source": [
        "extracted_text(text_image)"
      ]
    },
    {
      "cell_type": "code",
      "execution_count": null,
      "metadata": {
        "colab": {
          "background_save": true
        },
        "id": "zD0oW0AM9NkX"
      },
      "outputs": [],
      "source": [
        "text_data=extracted_text(text_image)"
      ]
    },
    {
      "cell_type": "code",
      "execution_count": null,
      "metadata": {
        "colab": {
          "background_save": true
        },
        "id": "LE6Raxm-9vps",
        "outputId": "fa6fba0a-3df7-4172-9e5a-e5ece21a8fd2"
      },
      "outputs": [
        {
          "data": {
            "application/vnd.google.colaboratory.intrinsic+json": {
              "summary": "{\n  \"name\": \"df\",\n  \"rows\": 1,\n  \"fields\": [\n    {\n      \"column\": \"NAME\",\n      \"properties\": {\n        \"dtype\": \"string\",\n        \"num_unique_values\": 1,\n        \"samples\": [\n          \"Selva\"\n        ],\n        \"semantic_type\": \"\",\n        \"description\": \"\"\n      }\n    },\n    {\n      \"column\": \"DESIGNATION\",\n      \"properties\": {\n        \"dtype\": \"string\",\n        \"num_unique_values\": 1,\n        \"samples\": [\n          \"DATA MANAGER\"\n        ],\n        \"semantic_type\": \"\",\n        \"description\": \"\"\n      }\n    },\n    {\n      \"column\": \"COMPANY_NAME\",\n      \"properties\": {\n        \"dtype\": \"string\",\n        \"num_unique_values\": 1,\n        \"samples\": [\n          \"selva digitals\"\n        ],\n        \"semantic_type\": \"\",\n        \"description\": \"\"\n      }\n    },\n    {\n      \"column\": \"CONTACT_NO\",\n      \"properties\": {\n        \"dtype\": \"string\",\n        \"num_unique_values\": 1,\n        \"samples\": [\n          \"+123-456-7890 +123-456-7891\"\n        ],\n        \"semantic_type\": \"\",\n        \"description\": \"\"\n      }\n    },\n    {\n      \"column\": \"MAIL_ID\",\n      \"properties\": {\n        \"dtype\": \"string\",\n        \"num_unique_values\": 1,\n        \"samples\": [\n          \"hello@XYZ1.com\"\n        ],\n        \"semantic_type\": \"\",\n        \"description\": \"\"\n      }\n    },\n    {\n      \"column\": \"WEBSITE\",\n      \"properties\": {\n        \"dtype\": \"string\",\n        \"num_unique_values\": 1,\n        \"samples\": [\n          \"www xyzi.com\"\n        ],\n        \"semantic_type\": \"\",\n        \"description\": \"\"\n      }\n    },\n    {\n      \"column\": \"ADDRESS\",\n      \"properties\": {\n        \"dtype\": \"string\",\n        \"num_unique_values\": 1,\n        \"samples\": [\n          \"123 ABC St  Chennai\"\n        ],\n        \"semantic_type\": \"\",\n        \"description\": \"\"\n      }\n    },\n    {\n      \"column\": \"PINCODE\",\n      \"properties\": {\n        \"dtype\": \"string\",\n        \"num_unique_values\": 1,\n        \"samples\": [\n          \"TamilNadu 600113\"\n        ],\n        \"semantic_type\": \"\",\n        \"description\": \"\"\n      }\n    }\n  ]\n}",
              "type": "dataframe",
              "variable_name": "df"
            },
            "text/html": [
              "\n",
              "  <div id=\"df-627e01e6-66ca-4b79-b9c6-7d1b3fb10004\" class=\"colab-df-container\">\n",
              "    <div>\n",
              "<style scoped>\n",
              "    .dataframe tbody tr th:only-of-type {\n",
              "        vertical-align: middle;\n",
              "    }\n",
              "\n",
              "    .dataframe tbody tr th {\n",
              "        vertical-align: top;\n",
              "    }\n",
              "\n",
              "    .dataframe thead th {\n",
              "        text-align: right;\n",
              "    }\n",
              "</style>\n",
              "<table border=\"1\" class=\"dataframe\">\n",
              "  <thead>\n",
              "    <tr style=\"text-align: right;\">\n",
              "      <th></th>\n",
              "      <th>NAME</th>\n",
              "      <th>DESIGNATION</th>\n",
              "      <th>COMPANY_NAME</th>\n",
              "      <th>CONTACT_NO</th>\n",
              "      <th>MAIL_ID</th>\n",
              "      <th>WEBSITE</th>\n",
              "      <th>ADDRESS</th>\n",
              "      <th>PINCODE</th>\n",
              "    </tr>\n",
              "  </thead>\n",
              "  <tbody>\n",
              "    <tr>\n",
              "      <th>0</th>\n",
              "      <td>Selva</td>\n",
              "      <td>DATA MANAGER</td>\n",
              "      <td>selva digitals</td>\n",
              "      <td>+123-456-7890 +123-456-7891</td>\n",
              "      <td>hello@XYZ1.com</td>\n",
              "      <td>www xyzi.com</td>\n",
              "      <td>123 ABC St  Chennai</td>\n",
              "      <td>TamilNadu 600113</td>\n",
              "    </tr>\n",
              "  </tbody>\n",
              "</table>\n",
              "</div>\n",
              "    <div class=\"colab-df-buttons\">\n",
              "\n",
              "  <div class=\"colab-df-container\">\n",
              "    <button class=\"colab-df-convert\" onclick=\"convertToInteractive('df-627e01e6-66ca-4b79-b9c6-7d1b3fb10004')\"\n",
              "            title=\"Convert this dataframe to an interactive table.\"\n",
              "            style=\"display:none;\">\n",
              "\n",
              "  <svg xmlns=\"http://www.w3.org/2000/svg\" height=\"24px\" viewBox=\"0 -960 960 960\">\n",
              "    <path d=\"M120-120v-720h720v720H120Zm60-500h600v-160H180v160Zm220 220h160v-160H400v160Zm0 220h160v-160H400v160ZM180-400h160v-160H180v160Zm440 0h160v-160H620v160ZM180-180h160v-160H180v160Zm440 0h160v-160H620v160Z\"/>\n",
              "  </svg>\n",
              "    </button>\n",
              "\n",
              "  <style>\n",
              "    .colab-df-container {\n",
              "      display:flex;\n",
              "      gap: 12px;\n",
              "    }\n",
              "\n",
              "    .colab-df-convert {\n",
              "      background-color: #E8F0FE;\n",
              "      border: none;\n",
              "      border-radius: 50%;\n",
              "      cursor: pointer;\n",
              "      display: none;\n",
              "      fill: #1967D2;\n",
              "      height: 32px;\n",
              "      padding: 0 0 0 0;\n",
              "      width: 32px;\n",
              "    }\n",
              "\n",
              "    .colab-df-convert:hover {\n",
              "      background-color: #E2EBFA;\n",
              "      box-shadow: 0px 1px 2px rgba(60, 64, 67, 0.3), 0px 1px 3px 1px rgba(60, 64, 67, 0.15);\n",
              "      fill: #174EA6;\n",
              "    }\n",
              "\n",
              "    .colab-df-buttons div {\n",
              "      margin-bottom: 4px;\n",
              "    }\n",
              "\n",
              "    [theme=dark] .colab-df-convert {\n",
              "      background-color: #3B4455;\n",
              "      fill: #D2E3FC;\n",
              "    }\n",
              "\n",
              "    [theme=dark] .colab-df-convert:hover {\n",
              "      background-color: #434B5C;\n",
              "      box-shadow: 0px 1px 3px 1px rgba(0, 0, 0, 0.15);\n",
              "      filter: drop-shadow(0px 1px 2px rgba(0, 0, 0, 0.3));\n",
              "      fill: #FFFFFF;\n",
              "    }\n",
              "  </style>\n",
              "\n",
              "    <script>\n",
              "      const buttonEl =\n",
              "        document.querySelector('#df-627e01e6-66ca-4b79-b9c6-7d1b3fb10004 button.colab-df-convert');\n",
              "      buttonEl.style.display =\n",
              "        google.colab.kernel.accessAllowed ? 'block' : 'none';\n",
              "\n",
              "      async function convertToInteractive(key) {\n",
              "        const element = document.querySelector('#df-627e01e6-66ca-4b79-b9c6-7d1b3fb10004');\n",
              "        const dataTable =\n",
              "          await google.colab.kernel.invokeFunction('convertToInteractive',\n",
              "                                                    [key], {});\n",
              "        if (!dataTable) return;\n",
              "\n",
              "        const docLinkHtml = 'Like what you see? Visit the ' +\n",
              "          '<a target=\"_blank\" href=https://colab.research.google.com/notebooks/data_table.ipynb>data table notebook</a>'\n",
              "          + ' to learn more about interactive tables.';\n",
              "        element.innerHTML = '';\n",
              "        dataTable['output_type'] = 'display_data';\n",
              "        await google.colab.output.renderOutput(dataTable, element);\n",
              "        const docLink = document.createElement('div');\n",
              "        docLink.innerHTML = docLinkHtml;\n",
              "        element.appendChild(docLink);\n",
              "      }\n",
              "    </script>\n",
              "  </div>\n",
              "\n",
              "\n",
              "  <div id=\"id_2a4519b3-5625-47de-8d5d-2f09e9e7a3d1\">\n",
              "    <style>\n",
              "      .colab-df-generate {\n",
              "        background-color: #E8F0FE;\n",
              "        border: none;\n",
              "        border-radius: 50%;\n",
              "        cursor: pointer;\n",
              "        display: none;\n",
              "        fill: #1967D2;\n",
              "        height: 32px;\n",
              "        padding: 0 0 0 0;\n",
              "        width: 32px;\n",
              "      }\n",
              "\n",
              "      .colab-df-generate:hover {\n",
              "        background-color: #E2EBFA;\n",
              "        box-shadow: 0px 1px 2px rgba(60, 64, 67, 0.3), 0px 1px 3px 1px rgba(60, 64, 67, 0.15);\n",
              "        fill: #174EA6;\n",
              "      }\n",
              "\n",
              "      [theme=dark] .colab-df-generate {\n",
              "        background-color: #3B4455;\n",
              "        fill: #D2E3FC;\n",
              "      }\n",
              "\n",
              "      [theme=dark] .colab-df-generate:hover {\n",
              "        background-color: #434B5C;\n",
              "        box-shadow: 0px 1px 3px 1px rgba(0, 0, 0, 0.15);\n",
              "        filter: drop-shadow(0px 1px 2px rgba(0, 0, 0, 0.3));\n",
              "        fill: #FFFFFF;\n",
              "      }\n",
              "    </style>\n",
              "    <button class=\"colab-df-generate\" onclick=\"generateWithVariable('df')\"\n",
              "            title=\"Generate code using this dataframe.\"\n",
              "            style=\"display:none;\">\n",
              "\n",
              "  <svg xmlns=\"http://www.w3.org/2000/svg\" height=\"24px\"viewBox=\"0 0 24 24\"\n",
              "       width=\"24px\">\n",
              "    <path d=\"M7,19H8.4L18.45,9,17,7.55,7,17.6ZM5,21V16.75L18.45,3.32a2,2,0,0,1,2.83,0l1.4,1.43a1.91,1.91,0,0,1,.58,1.4,1.91,1.91,0,0,1-.58,1.4L9.25,21ZM18.45,9,17,7.55Zm-12,3A5.31,5.31,0,0,0,4.9,8.1,5.31,5.31,0,0,0,1,6.5,5.31,5.31,0,0,0,4.9,4.9,5.31,5.31,0,0,0,6.5,1,5.31,5.31,0,0,0,8.1,4.9,5.31,5.31,0,0,0,12,6.5,5.46,5.46,0,0,0,6.5,12Z\"/>\n",
              "  </svg>\n",
              "    </button>\n",
              "    <script>\n",
              "      (() => {\n",
              "      const buttonEl =\n",
              "        document.querySelector('#id_2a4519b3-5625-47de-8d5d-2f09e9e7a3d1 button.colab-df-generate');\n",
              "      buttonEl.style.display =\n",
              "        google.colab.kernel.accessAllowed ? 'block' : 'none';\n",
              "\n",
              "      buttonEl.onclick = () => {\n",
              "        google.colab.notebook.generateWithVariable('df');\n",
              "      }\n",
              "      })();\n",
              "    </script>\n",
              "  </div>\n",
              "\n",
              "    </div>\n",
              "  </div>\n"
            ],
            "text/plain": [
              "    NAME   DESIGNATION    COMPANY_NAME                   CONTACT_NO  \\\n",
              "0  Selva  DATA MANAGER  selva digitals  +123-456-7890 +123-456-7891   \n",
              "\n",
              "          MAIL_ID       WEBSITE              ADDRESS           PINCODE  \n",
              "0  hello@XYZ1.com  www xyzi.com  123 ABC St  Chennai  TamilNadu 600113  "
            ]
          },
          "execution_count": 13,
          "metadata": {},
          "output_type": "execute_result"
        }
      ],
      "source": [
        "df=pd.DataFrame(text_data)\n",
        "df"
      ]
    },
    {
      "cell_type": "code",
      "execution_count": null,
      "metadata": {
        "colab": {
          "background_save": true
        },
        "id": "NnJWUeI29vsy"
      },
      "outputs": [],
      "source": [
        "#converting image to bytes\n",
        "Image_bytes=io.BytesIO()\n",
        "input_img.save(Image_bytes, format=\"PNG\")\n",
        "image_data=Image_bytes.getvalue()\n",
        "\n",
        "#Creating Dictionary\n",
        "data={\"IMAGE\":[image_data]}\n",
        "df_1=pd.DataFrame(data)\n",
        "concat_df=pd.concat([df,df_1],axis=1)\n",
        "concat_df"
      ]
    },
    {
      "cell_type": "code",
      "execution_count": null,
      "metadata": {
        "colab": {
          "background_save": true
        },
        "id": "_wY70XvK9vxN"
      },
      "outputs": [],
      "source": [
        "mydb=sqlite3.connect(\"bizxardx.db\")\n",
        "cursor=mydb.cursor()\n",
        "#Table Creation\n",
        "create_table_query='''CREATE TABLE IF NOT EXISTS bizcard_details(name varchar(225),\n",
        "                                                                  designation varchar(225),\n",
        "                                                                  company_name varchar(225),\n",
        "                                                                  contact_no varchar(225),\n",
        "                                                                  mail_id varchar(225),\n",
        "                                                                  website text,\n",
        "                                                                  address varchar(225),\n",
        "                                                                  pincode varchar(225),\n",
        "                                                                  image text)'''\n",
        "\n",
        "cursor.execute(create_table_query)\n",
        "mydb.commit()"
      ]
    },
    {
      "cell_type": "code",
      "execution_count": null,
      "metadata": {
        "colab": {
          "background_save": true
        },
        "id": "Uv9HF0wd9v0c"
      },
      "outputs": [],
      "source": [
        "#Insert Query\n",
        "insert_query='''INSERT INTO bizcard_details(name, designation, company_name, contact_no, mail_id, website, address, pincode, image)\n",
        "                                            values(?,?,?,?,?,?,?,?,?)'''\n",
        "datas=concat_df.values.tolist()[0]\n",
        "cursor.execute(insert_query, datas)\n",
        "mydb.commit()"
      ]
    },
    {
      "cell_type": "code",
      "execution_count": null,
      "metadata": {
        "colab": {
          "background_save": true
        },
        "id": "ZZBneRuW9v3O"
      },
      "outputs": [],
      "source": [
        "#Select Query\n",
        "select_query=\"SELECT * FROM bizcard_details\"\n",
        "cursor.execute(select_query)\n",
        "table=cursor.fetchall()\n",
        "mydb.commit()\n",
        "table_df=pd.DataFrame(table, columns=(\"NAME\",\"DESIGNATION\",\"COMANY_NAME\",\"CONTACT_NO\",\"MAIL_ID\",\"WEBSITE\", \"ADDRESS\",\"PINCODE\",\"IMAGE\"))\n",
        "table_df"
      ]
    },
    {
      "cell_type": "code",
      "execution_count": null,
      "metadata": {
        "colab": {
          "background_save": true
        },
        "id": "G5ctK-4zPg7X"
      },
      "outputs": [],
      "source": [
        "%%writefile biz_card.py\n",
        "import easyocr\n",
        "import streamlit as st\n",
        "from streamlit_option_menu import option_menu\n",
        "from PIL import Image\n",
        "import pandas as pd\n",
        "import numpy as np\n",
        "import re\n",
        "import io\n",
        "import sqlite3\n",
        "\n",
        "def image_to_text(path):\n",
        "\n",
        "  input_img=Image.open(path)\n",
        "\n",
        "  #converting image to array format\n",
        "  image_array=np.array(input_img)\n",
        "  reader=easyocr.Reader(['en'])\n",
        "  text=reader.readtext(image_array, detail=0)\n",
        "\n",
        "  return text, input_img\n",
        "\n",
        " #from typing import Concatenate\n",
        "def extracted_text(texts):\n",
        "  extracted_dic={\"NAME\":[],\"DESIGNATION\":[], \"COMPANY_NAME\":[], \"CONTACT_NO\":[], \"MAIL_ID\":[], \"WEBSITE\":[], \"ADDRESS\":[], \"PINCODE\":[]}\n",
        "\n",
        "  extracted_dic[\"NAME\"].append(texts[0])\n",
        "  extracted_dic[\"DESIGNATION\"].append(texts[1])\n",
        "\n",
        "  for i in range(2,len(texts)):\n",
        "    if texts[i]. startswith(\"+\")or(texts[i].replace(\"-\",\"\").isdigit() and '-' in texts[i]):\n",
        "      extracted_dic[\"CONTACT_NO\"].append(texts[i])\n",
        "\n",
        "    elif \"@\" in texts[i] and \".com\" in texts[i]:\n",
        "      extracted_dic[\"MAIL_ID\"].append(texts[i])\n",
        "    elif \"WWW\" in texts[i] or \"www\" in texts[i] or \"Www\" in texts[i] or \"wWw\" in texts[i] or \"wwW\" in texts[i]:\n",
        "      small=texts[i].lower()\n",
        "      extracted_dic[\"WEBSITE\"].append(small)\n",
        "    elif \"TamilNadu\" in texts[i] or  \"Tamil Nadu\" in texts[i] or texts[i].isdigit():\n",
        "      extracted_dic[\"PINCODE\"].append(texts[i])\n",
        "\n",
        "    elif re.match(r'^[A-Za-z]',texts[i]):\n",
        "      extracted_dic[\"COMPANY_NAME\"].append(texts[i])\n",
        "\n",
        "    else:\n",
        "      remove_colon=re.sub(r'[,;]','',texts[i])\n",
        "      extracted_dic[\"ADDRESS\"].append(remove_colon)\n",
        "\n",
        "  for key,value in extracted_dic.items():\n",
        "    if len(value)>0:\n",
        "      Concatenate = \" \".join(value)\n",
        "      extracted_dic[key]=[Concatenate]\n",
        "    else:\n",
        "      value=\"NA\"\n",
        "      extracted_dic[key]=[value]\n",
        "\n",
        "  return extracted_dic\n",
        "\n",
        "\n",
        "#streamlit part\n",
        "st.set_page_config(layout=\"wide\")\n",
        "st.title(\"EXTRACTING BUSINESS CARD WITH 'OCR'\")\n",
        "\n",
        "with st.sidebar:\n",
        "  select=option_menu(\"Main Menu\", [\"Home\",\"Upload & Modyfying\",\"Delete\"])\n",
        "\n",
        "text_dict=None\n",
        "designation_select=None\n",
        "names_select=None\n",
        "\n",
        "if select==\"Home\":\n",
        "  pass\n",
        "\n",
        "elif select==\"Upload & Modyfying\":\n",
        "  img=st.file_uploader(\"Upload the image\", type=[\"png\",\"jpeg\",\"jpg\"])\n",
        "\n",
        "  if img is not None:\n",
        "    st.image(img, width=300)\n",
        "\n",
        "    text_image, input_img=image_to_text(img)\n",
        "\n",
        "    text_dict = extracted_text(text_image)\n",
        "\n",
        "  if text_dict:\n",
        "    st.success(\"TEXT IS EXTRACTED SUCCESSFULLY\")\n",
        "  df=pd.DataFrame(text_dict)\n",
        "\n",
        "#converting image to bytes\n",
        "  if img is not None:\n",
        "    Image_bytes=io.BytesIO()\n",
        "    input_img.save(Image_bytes, format=\"PNG\")\n",
        "    image_data=Image_bytes.getvalue()\n",
        "\n",
        "  #Creating Dictionary\n",
        "    data={\"IMAGE\":[image_data]}\n",
        "    df_1=pd.DataFrame(data)\n",
        "    concat_df=pd.concat([df,df_1],axis=1)\n",
        "    st.dataframe(concat_df)\n",
        "\n",
        "  button_1=st.button(\"Save\", use_container_width=True)\n",
        "  if button_1:\n",
        "    mydb=sqlite3.connect(\"bizxardx.db\")\n",
        "    cursor=mydb.cursor()\n",
        "    #Table Creation\n",
        "    create_table_query='''CREATE TABLE IF NOT EXISTS bizcard_details(name varchar(225),\n",
        "                                                                      designation varchar(225),\n",
        "                                                                      company_name varchar(225),\n",
        "                                                                      contact_no varchar(225),\n",
        "                                                                      mail_id varchar(225),\n",
        "                                                                      website text,\n",
        "                                                                      address varchar(225),\n",
        "                                                                      pincode varchar(225),\n",
        "                                                                      image text)'''\n",
        "\n",
        "    cursor.execute(create_table_query)\n",
        "    mydb.commit()\n",
        "\n",
        "    #Insert Query\n",
        "    insert_query='''INSERT INTO bizcard_details(name, designation, company_name, contact_no, mail_id, website, address, pincode, image)\n",
        "                                                  values(?,?,?,?,?,?,?,?,?)'''\n",
        "    datas=concat_df.values.tolist()[0]\n",
        "    cursor.execute(insert_query, datas)\n",
        "    mydb.commit()\n",
        "    st.success(\"SAVED SUCCESSFULLY\")\n",
        "\n",
        "  method=st.radio(\"Select the Method\",[\"None\",\"Preview\",\"Modify\"])\n",
        "  if method==\"None\":\n",
        "    st.write(\"\")\n",
        "  if method==\"Preview\":\n",
        "    mydb=sqlite3.connect(\"bizxardx.db\")\n",
        "    cursor=mydb.cursor()\n",
        "    #Select Query\n",
        "    select_query=\"SELECT * FROM bizcard_details\"\n",
        "    cursor.execute(select_query)\n",
        "    table=cursor.fetchall()\n",
        "    mydb.commit()\n",
        "    table_df=pd.DataFrame(table, columns=(\"NAME\",\"DESIGNATION\",\"COMANY_NAME\",\"CONTACT_NO\",\"MAIL_ID\",\"WEBSITE\", \"ADDRESS\",\"PINCODE\",\"IMAGE\"))\n",
        "    st.dataframe(table_df)\n",
        "\n",
        "  elif method==\"Modify\":\n",
        "    mydb=sqlite3.connect(\"bizxardx.db\")\n",
        "    cursor=mydb.cursor()\n",
        "    #Select Query\n",
        "    select_query=\"SELECT * FROM bizcard_details\"\n",
        "    cursor.execute(select_query)\n",
        "    table=cursor.fetchall()\n",
        "    mydb.commit()\n",
        "    table_df=pd.DataFrame(table, columns=(\"NAME\",\"DESIGNATION\",\"COMANY_NAME\",\"CONTACT_NO\",\"MAIL_ID\",\"WEBSITE\", \"ADDRESS\",\"PINCODE\",\"IMAGE\"))\n",
        "    col1,col2=st.columns(2)\n",
        "    with col1:\n",
        "      selected_name=st.selectbox(\"Select the Name\", table_df[\"NAME\"])\n",
        "\n",
        "    df_3=table_df[table_df[\"NAME\"]==selected_name]\n",
        "    st.dataframe(df_3)\n",
        "    df_4=df_3.copy()\n",
        "\n",
        "    col1,col2=st.columns(2)\n",
        "    with col1:\n",
        "      mod_name=st.text_input(\"Name\", df_3[\"NAME\"].unique()[0])\n",
        "      mod_desig=st.text_input(\"Designation\", df_3[\"DESIGNATION\"].unique()[0])\n",
        "      mod_comp=st.text_input(\"Company_name\", df_3[\"COMANY_NAME\"].unique()[0])\n",
        "      mod_cont=st.text_input(\"Contact_no\", df_3[\"CONTACT_NO\"].unique()[0])\n",
        "      mod_mail=st.text_input(\"Mail_ID\", df_3[\"MAIL_ID\"].unique()[0])\n",
        "\n",
        "      df_4[\"NAME\"]=mod_name\n",
        "      df_4[\"NAME\"]=mod_name\n",
        "      df_4[\"NAME\"]=mod_name\n",
        "      df_4[\"NAME\"]=mod_name\n",
        "      df_4[\"NAME\"]=mod_name\n",
        "\n",
        "    with col2:\n",
        "      mod_webs=st.text_input(\"Website\", df_3[\"WEBSITE\"].unique()[0])\n",
        "      mod_addr=st.text_input(\"Address\", df_3[\"ADDRESS\"].unique()[0])\n",
        "      mod_pin=st.text_input(\"Pincode\", df_3[\"PINCODE\"].unique()[0])\n",
        "      mod_img=st.text_input(\"Image\", df_3[\"IMAGE\"].unique()[0])\n",
        "\n",
        "      df_4[\"WEBSITE\"]=mod_webs\n",
        "      df_4[\"ADDRESS\"]=mod_addr\n",
        "      df_4[\"PINCODE\"]=mod_pin\n",
        "      df_4[\"IMAGE\"]=mod_img\n",
        "\n",
        "    st.dataframe(df_4)\n",
        "    col1,col2=st.columns(2)\n",
        "\n",
        "    with col1:\n",
        "      button_3=st.button(\"Modify\", use_container_width=True)\n",
        "\n",
        "    if button_3:\n",
        "      mydb=sqlite3.connect(\"bizxardx.db\")\n",
        "      cursor=mydb.cursor()\n",
        "\n",
        "      cursor.execute(f\"DELETE FROM bizcard_details WHERE NAME = '{selected_name}'\")\n",
        "      mydb.commit()\n",
        "\n",
        "      #Insert Query\n",
        "      insert_query='''INSERT INTO bizcard_details(name, designation, company_name, contact_no, mail_id, website, address, pincode, image)\n",
        "                                                    values(?,?,?,?,?,?,?,?,?)'''\n",
        "      datas=concat_df.values.tolist()[0]\n",
        "      cursor.execute(insert_query, datas)\n",
        "      mydb.commit()\n",
        "      st.success(\"MODIFIED SUCCESSFULLY\")\n",
        "\n",
        "\n",
        "elif select==\"Delete\":\n",
        "  mydb=sqlite3.connect(\"bizxardx.db\")\n",
        "  cursor=mydb.cursor()\n",
        "  col1,col2=st.columns(2)\n",
        "\n",
        "  with col1:\n",
        "    select_query=\"SELECT NAME FROM bizcard_details\"\n",
        "    cursor.execute(select_query)\n",
        "    table1=cursor.fetchall()\n",
        "    mydb.commit()\n",
        "    names=[]\n",
        "    for i in table1:\n",
        "      names.append(i[0])\n",
        "\n",
        "      names_select=st.selectbox(\"Select the Name\", names)\n",
        "\n",
        "  with col2:\n",
        "    select_query=f\"SELECT DESIGNATION FROM bizcard_details WHERE NAME ='{names_select}'\"\n",
        "    cursor.execute(select_query)\n",
        "    table2=cursor.fetchall()\n",
        "    mydb.commit()\n",
        "    designation=[]\n",
        "    for a in table2:\n",
        "      designation.append(a[0])\n",
        "\n",
        "      designation_select=st.selectbox(\"Select the Designation\", options=designation)\n",
        "\n",
        "if names_select and designation_select:\n",
        "  col1,col2,col3=st.columns(3)\n",
        "\n",
        "  with col1:\n",
        "    st.write(f\"Selected Name : {names_select}\")\n",
        "    st.write(\"\")\n",
        "    st.write(\"\")\n",
        "    st.write(\"\")\n",
        "    st.write(f\"SELECTED DESIGNATION : {designation_select}\")\n",
        "\n",
        "  with col2:\n",
        "    st.write(\"\")\n",
        "    st.write(\"\")\n",
        "    st.write(\"\")\n",
        "    st.write(\"\")\n",
        "\n",
        "    remove=st.button(\"DELETE\", use_container_width=True)\n",
        "\n",
        "    if remove:\n",
        "      cursor.execute(f\"DELETE FROM bizcard_details WHERE NAME ='{names_select}' AND DESIGNATION = '{designation_select}'\")\n",
        "      mydb.commit()\n",
        "\n",
        "      st.warning(\"DELETED\")"
      ]
    },
    {
      "cell_type": "code",
      "execution_count": null,
      "metadata": {
        "colab": {
          "background_save": true
        },
        "id": "2_onBOmP-RtV"
      },
      "outputs": [],
      "source": [
        "datas=concat_df.values.tolist()[0]\n",
        "datas"
      ]
    },
    {
      "cell_type": "code",
      "execution_count": null,
      "metadata": {
        "colab": {
          "background_save": true
        },
        "id": "85NQ7vZC9v54"
      },
      "outputs": [],
      "source": [
        "!wget -q -O - ipv4.icanhazip.com"
      ]
    },
    {
      "cell_type": "code",
      "execution_count": null,
      "metadata": {
        "colab": {
          "background_save": true
        },
        "id": "zgmEZFGtSziv"
      },
      "outputs": [],
      "source": [
        "!npm install -g localtunnel"
      ]
    },
    {
      "cell_type": "code",
      "execution_count": null,
      "metadata": {
        "colab": {
          "background_save": true
        },
        "id": "W1m4ZusxSzbe"
      },
      "outputs": [],
      "source": [
        "!lt --port 7860"
      ]
    },
    {
      "cell_type": "code",
      "execution_count": null,
      "metadata": {
        "colab": {
          "background_save": true
        },
        "id": "XbCE7ypJPq6Z",
        "outputId": "5e99536a-d994-4a43-faca-b9e23867e545"
      },
      "outputs": [
        {
          "name": "stdout",
          "output_type": "stream",
          "text": [
            "\n",
            "Collecting usage statistics. To deactivate, set browser.gatherUsageStats to false.\n",
            "\u001b[0m\n",
            "\u001b[0m\n",
            "\u001b[34m\u001b[1m  You can now view your Streamlit app in your browser.\u001b[0m\n",
            "\u001b[0m\n",
            "\u001b[34m  Local URL: \u001b[0m\u001b[1mhttp://localhost:8501\u001b[0m\n",
            "\u001b[34m  Network URL: \u001b[0m\u001b[1mhttp://172.28.0.12:8501\u001b[0m\n",
            "\u001b[34m  External URL: \u001b[0m\u001b[1mhttp://34.171.20.35:8501\u001b[0m\n",
            "\u001b[0m\n",
            "your url is: https://many-cooks-wait.loca.lt\n",
            "2024-10-24 06:59:56.006 Examining the path of torch.classes raised: Tried to instantiate class '__path__._path', but it does not exist! Ensure that it is registered via torch::class_\n",
            "2024-10-24 07:11:58.965 Examining the path of torch.classes raised: Tried to instantiate class '__path__._path', but it does not exist! Ensure that it is registered via torch::class_\n",
            "Neither CUDA nor MPS are available - defaulting to CPU. Note: This module is much faster with a GPU.\n",
            "2024-10-24 07:14:40.585 Examining the path of torch.classes raised: Tried to instantiate class '__path__._path', but it does not exist! Ensure that it is registered via torch::class_\n",
            "Neither CUDA nor MPS are available - defaulting to CPU. Note: This module is much faster with a GPU.\n",
            "2024-10-24 07:18:33.670 Uncaught app exception\n",
            "Traceback (most recent call last):\n",
            "  File \"/usr/local/lib/python3.10/dist-packages/streamlit/runtime/scriptrunner/exec_code.py\", line 88, in exec_func_with_error_handling\n",
            "    result = func()\n",
            "  File \"/usr/local/lib/python3.10/dist-packages/streamlit/runtime/scriptrunner/script_runner.py\", line 579, in code_to_exec\n",
            "    exec(code, module.__dict__)\n",
            "  File \"/content/biz_card.py\", line 197, in <module>\n",
            "    datas=concat_df.values.tolist()[0]\n",
            "NameError: name 'concat_df' is not defined\n",
            "2024-10-24 07:18:33.909 Examining the path of torch.classes raised: Tried to instantiate class '__path__._path', but it does not exist! Ensure that it is registered via torch::class_\n",
            "2024-10-24 07:19:40.345 Examining the path of torch.classes raised: Tried to instantiate class '__path__._path', but it does not exist! Ensure that it is registered via torch::class_\n",
            "/tools/node/lib/node_modules/localtunnel/bin/lt.js:81\n",
            "    throw err;\n",
            "    ^\n",
            "\n",
            "Error: connection refused: localtunnel.me:19283 (check your firewall settings)\n",
            "    at Socket.<anonymous> (/tools/node/lib/node_modules/\u001b[4mlocaltunnel\u001b[24m/lib/TunnelCluster.js:52:11)\n",
            "\u001b[90m    at Socket.emit (node:events:513:28)\u001b[39m\n",
            "\u001b[90m    at emitErrorNT (node:internal/streams/destroy:157:8)\u001b[39m\n",
            "\u001b[90m    at emitErrorCloseNT (node:internal/streams/destroy:122:3)\u001b[39m\n",
            "\u001b[90m    at processTicksAndRejections (node:internal/process/task_queues:83:21)\u001b[39m\n"
          ]
        }
      ],
      "source": [
        "! streamlit run biz_card.py & npx localtunnel --port 8501"
      ]
    }
  ],
  "metadata": {
    "colab": {
      "provenance": []
    },
    "kernelspec": {
      "display_name": "Python 3",
      "name": "python3"
    },
    "language_info": {
      "name": "python"
    }
  },
  "nbformat": 4,
  "nbformat_minor": 0
}